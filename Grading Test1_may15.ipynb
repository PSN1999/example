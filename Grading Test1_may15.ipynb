{
 "cells": [
  {
   "cell_type": "markdown",
   "id": "ddd91639",
   "metadata": {},
   "source": [
    "# Machine learning -FST-5\n",
    "Grading Test -15-05-2023\n",
    "\n",
    "Note : Read all the questions carefully before answering.\n",
    "\n",
    "Save your jupyter notebook with ur name_date pattern ( shilpa_may15) and upload on github,and submit\n",
    "the github link in the google form provided."
   ]
  },
  {
   "cell_type": "markdown",
   "id": "1544886e",
   "metadata": {},
   "source": [
    "## PART A ( Multiple choice 6*1 = 6)"
   ]
  },
  {
   "cell_type": "raw",
   "id": "5ca4c874",
   "metadata": {},
   "source": [
    "\n",
    "1.A Lambda Function is a _________function\n",
    "\n",
    "a)Small function\n",
    "\n",
    "b)Anonymous function *\n",
    "\n",
    "c)Default function\n",
    "\n",
    "d)All of the above"
   ]
  },
  {
   "cell_type": "raw",
   "id": "576cf94f",
   "metadata": {},
   "source": [
    "2.Why would you use the pass statement ?\n",
    "\n",
    "a) Python has the syntactical requirement that code blocks cannot be empty.\n",
    "\n",
    "b)Ignoring (all or) a certain type of Exception\n",
    "\n",
    "c)Testing that code runs properly for a few test values, without caring about the results\n",
    "\n",
    "d) All of the above *"
   ]
  },
  {
   "cell_type": "raw",
   "id": "2d30d157",
   "metadata": {},
   "source": [
    "3.What is MRO in Python?\n",
    "\n",
    "a)Machine learning repository\n",
    "\n",
    "b)defines the order in which the base classes are searched when executing a method. *\n",
    "\n",
    "c)Method over riding\n",
    "\n",
    "d)Method overloading"
   ]
  },
  {
   "cell_type": "raw",
   "id": "4092300f",
   "metadata": {},
   "source": [
    "4.What is self in Python?\n",
    "\n",
    "a)You can access the attributes and methods of the class in python\n",
    "\n",
    "b)Represents the instance of the class\n",
    "\n",
    "c)Binds the attributes with the given argument\n",
    "\n",
    "d) All of the above *\n",
    "\n"
   ]
  },
  {
   "cell_type": "raw",
   "id": "333b03b7",
   "metadata": {},
   "source": [
    "5.What is __init__?\n",
    "\n",
    "a)Object of every class\n",
    "\n",
    "b)Constructor method in python *\n",
    "\n",
    "c)Only few classes in python have init methods\n",
    "\n",
    "d)None of the above"
   ]
  },
  {
   "cell_type": "code",
   "execution_count": null,
   "id": "09664799",
   "metadata": {},
   "outputs": [],
   "source": [
    "6.What does * indicate in regular expression?\n",
    "\n",
    "a)One or more occurrences\n",
    "\n",
    "b)Zero or more occurrences *\n",
    "\n",
    "c)Zero or one occurrences\n",
    "\n",
    "d)Exactly the specified number of occurrences"
   ]
  },
  {
   "cell_type": "markdown",
   "id": "f2f1a615",
   "metadata": {},
   "source": [
    "## PART B ( Answer in a line 10*2  = 20)\n"
   ]
  },
  {
   "cell_type": "code",
   "execution_count": 9,
   "id": "cda7376e",
   "metadata": {},
   "outputs": [],
   "source": [
    "\n",
    "#6.What is break and continue in python? Explain with example:\n",
    "\n",
    "# for i in range(3):\n",
    "#     if i == 3:\n",
    "#         break\n",
    "#     print(i)\n",
    "\n",
    "\n",
    "# for i in range(5):\n",
    "#     if i == 3:\n",
    "#         continue\n",
    "#     print(i)\n"
   ]
  },
  {
   "cell_type": "code",
   "execution_count": 18,
   "id": "875b095a",
   "metadata": {},
   "outputs": [],
   "source": [
    "#7.What are Dict and List comprehensions? Give atleast one example(code)\n",
    "\n",
    "# x = [i for i in range(10) if i > 5 ]\n",
    "# x \n",
    "\n",
    "\n",
    "# dict = {n:n**2 for n in range(3)}\n",
    "# dict\n"
   ]
  },
  {
   "cell_type": "code",
   "execution_count": 25,
   "id": "590b84cc",
   "metadata": {},
   "outputs": [
    {
     "data": {
      "text/plain": [
       "345455"
      ]
     },
     "execution_count": 25,
     "metadata": {},
     "output_type": "execute_result"
    }
   ],
   "source": [
    "#8.How do you create a class in Python?\n",
    "\n",
    "class Car:\n",
    "    def __init__(self,brand,price):\n",
    "        self.price = price\n",
    "        self.brand = brand\n",
    "\n",
    "c = Car(\"tata\",345455)\n",
    "c.price"
   ]
  },
  {
   "cell_type": "code",
   "execution_count": 31,
   "id": "23dec45e",
   "metadata": {},
   "outputs": [
    {
     "data": {
      "text/plain": [
       "'ab'"
      ]
     },
     "execution_count": 31,
     "metadata": {},
     "output_type": "execute_result"
    }
   ],
   "source": [
    "#9.What is inheritance ?Give  one example \n",
    "\n",
    "class Person:\n",
    "    def __init__(self,fname,lname):\n",
    "        self.fname = fname\n",
    "        self.lnamen= lname\n",
    "        \n",
    "        \n",
    "class Child(Person):\n",
    "    pass\n",
    "        \n",
    "        \n",
    "c = Child(\"ab\",\"cd\")\n",
    "c.fname"
   ]
  },
  {
   "cell_type": "code",
   "execution_count": 36,
   "id": "7c48a1e5",
   "metadata": {},
   "outputs": [
    {
     "name": "stdout",
     "output_type": "stream",
     "text": [
      "5\n",
      "3\n",
      "2\n"
     ]
    }
   ],
   "source": [
    "#10.What is polymorphism? Give one example\n",
    "\n",
    "#Function polymorphism \n",
    "\n",
    "print(len(\"sahil\"))\n",
    "print(len([\"sd\",\"fst\",\"sds\"]))\n",
    "print(len({\"a\":1,\"b\":2}))"
   ]
  },
  {
   "cell_type": "code",
   "execution_count": 39,
   "id": "8fba5e7e",
   "metadata": {},
   "outputs": [],
   "source": [
    "#11.Difference between multilevel and multiple inheritance?\n",
    "# class Parent:\n",
    "#     def f(self):\n",
    "#         print(\"f method\")\n",
    "        \n",
    "# class Child(Parent):\n",
    "#     def f2(self):\n",
    "#         print(\"f2 method\")\n",
    "        \n",
    "# class Grandchild(Child):\n",
    "#     def f3(self):\n",
    "#         print(\"f3 method\")\n",
    "        \n",
    "    \n",
    "    \n",
    "class a:\n",
    "    def f(self):\n",
    "        print(\"f method\")\n",
    "        \n",
    "class b:\n",
    "    def f2(self):\n",
    "        print(\"f2 method\")\n",
    "\n",
    "class c(a,b):\n",
    "    def f4(self):\n",
    "        pass"
   ]
  },
  {
   "cell_type": "code",
   "execution_count": 47,
   "id": "0feab5cf",
   "metadata": {},
   "outputs": [
    {
     "data": {
      "text/plain": [
       "array([[[   3,    4,    5],\n",
       "        [  44,   34,   34]],\n",
       "\n",
       "       [[2334,   45,   55],\n",
       "        [   2,    3,    4]]])"
      ]
     },
     "execution_count": 47,
     "metadata": {},
     "output_type": "execute_result"
    }
   ],
   "source": [
    "#12.Create a 1D,2D and 3D array?\n",
    "\n",
    "import numpy as np\n",
    "a1 = np.array([1,2,3])\n",
    "a2 = np.array([[1,2,3],[4,4,5]])\n",
    "a3 = np.array([[[3,4,5],[44,34,34]],[[2334,45,55],[2,3,4]]])\n",
    "a3"
   ]
  },
  {
   "cell_type": "code",
   "execution_count": 50,
   "id": "e6346cc8",
   "metadata": {},
   "outputs": [
    {
     "data": {
      "text/plain": [
       "array([5, 4, 2])"
      ]
     },
     "execution_count": 50,
     "metadata": {},
     "output_type": "execute_result"
    }
   ],
   "source": [
    "#13.How will you reverse the numpy array using one line of code?\n",
    "a = np.array([2,4,5])\n",
    "a[::-1]"
   ]
  },
  {
   "cell_type": "raw",
   "id": "d87f6616",
   "metadata": {},
   "source": [
    "#14.What advantages do NumPy arrays offer over  Python lists?\n",
    "faster and usefull for mathematical computations"
   ]
  },
  {
   "cell_type": "code",
   "execution_count": 54,
   "id": "7968d7e2",
   "metadata": {},
   "outputs": [
    {
     "name": "stdout",
     "output_type": "stream",
     "text": [
      "* \n",
      "* * \n",
      "* * * \n"
     ]
    }
   ],
   "source": [
    "#15.python3 code to print the below pattern\n",
    "\n",
    "# *\n",
    "# **\n",
    "# ***\n",
    "\n",
    "for i in range(3):\n",
    "    for j in range(i+1):\n",
    "        print(\"*\",end = \" \")\n",
    "    print()"
   ]
  },
  {
   "cell_type": "markdown",
   "id": "75d959eb",
   "metadata": {},
   "source": [
    "## PART C (Exploratory data analysis)"
   ]
  },
  {
   "cell_type": "raw",
   "id": "fe95eaca",
   "metadata": {},
   "source": [
    "16.Draw insights from the dataset provided using suitable visualization libraries.(6*4 = 24)\n",
    "\n",
    "\n",
    "\n",
    "1.Load the \"Diamonds dataset \" from seaborn library\n",
    "\n",
    "Dataset desciption:\n",
    "(carat: weight of the diamond\n",
    "cut: (Fair, Good, Very Good, Premium, Ideal) ordinal\n",
    "color: J (worst) to D (best) ordinal\n",
    "clarity: [I1 (worst), SI2, SI1, VS2, VS1, VVS2, VVS1, IF (best)]\n",
    "depth: z / (mean(x,y)) = 2*z / (x+y) in percentage\n",
    "table: percentage of width on the top relative to width\n",
    "price: given in US Dollars\n",
    "x: length in mm\n",
    "y: width in mm\n",
    "z: depth in mm)\n",
    "\n",
    "2.Which column has highest correlation with the target variable?(Graphs)\n",
    "\n",
    "3.Find the outliers in each column?Use suitable graphs\n",
    "\n",
    "4.what is the count of premium diamonds in the dataset?\n",
    "\n",
    "5.What is the average price of diamonds?\n",
    "\n",
    "6.Create a new column called \"size = x*y*z"
   ]
  },
  {
   "cell_type": "code",
   "execution_count": 83,
   "id": "4f054230",
   "metadata": {},
   "outputs": [],
   "source": [
    "import pandas as pd\n",
    "import numpy as np\n",
    "import seaborn as sns\n",
    "import matplotlib.pyplot as plt"
   ]
  },
  {
   "cell_type": "code",
   "execution_count": 84,
   "id": "8b6aed7c",
   "metadata": {},
   "outputs": [],
   "source": [
    "df = pd.read_csv(r\"C:\\Users\\Shilpa\\OneDrive\\Pictures\\Desktop\\diamonds.csv\\diamonds.csv\")"
   ]
  },
  {
   "cell_type": "code",
   "execution_count": 85,
   "id": "09192744",
   "metadata": {},
   "outputs": [
    {
     "data": {
      "text/html": [
       "<div>\n",
       "<style scoped>\n",
       "    .dataframe tbody tr th:only-of-type {\n",
       "        vertical-align: middle;\n",
       "    }\n",
       "\n",
       "    .dataframe tbody tr th {\n",
       "        vertical-align: top;\n",
       "    }\n",
       "\n",
       "    .dataframe thead th {\n",
       "        text-align: right;\n",
       "    }\n",
       "</style>\n",
       "<table border=\"1\" class=\"dataframe\">\n",
       "  <thead>\n",
       "    <tr style=\"text-align: right;\">\n",
       "      <th></th>\n",
       "      <th>Unnamed: 0</th>\n",
       "      <th>carat</th>\n",
       "      <th>cut</th>\n",
       "      <th>color</th>\n",
       "      <th>clarity</th>\n",
       "      <th>depth</th>\n",
       "      <th>table</th>\n",
       "      <th>price</th>\n",
       "      <th>x</th>\n",
       "      <th>y</th>\n",
       "      <th>z</th>\n",
       "    </tr>\n",
       "  </thead>\n",
       "  <tbody>\n",
       "    <tr>\n",
       "      <th>0</th>\n",
       "      <td>1</td>\n",
       "      <td>0.23</td>\n",
       "      <td>Ideal</td>\n",
       "      <td>E</td>\n",
       "      <td>SI2</td>\n",
       "      <td>61.5</td>\n",
       "      <td>55.0</td>\n",
       "      <td>326</td>\n",
       "      <td>3.95</td>\n",
       "      <td>3.98</td>\n",
       "      <td>2.43</td>\n",
       "    </tr>\n",
       "    <tr>\n",
       "      <th>1</th>\n",
       "      <td>2</td>\n",
       "      <td>0.21</td>\n",
       "      <td>Premium</td>\n",
       "      <td>E</td>\n",
       "      <td>SI1</td>\n",
       "      <td>59.8</td>\n",
       "      <td>61.0</td>\n",
       "      <td>326</td>\n",
       "      <td>3.89</td>\n",
       "      <td>3.84</td>\n",
       "      <td>2.31</td>\n",
       "    </tr>\n",
       "  </tbody>\n",
       "</table>\n",
       "</div>"
      ],
      "text/plain": [
       "   Unnamed: 0  carat      cut color clarity  depth  table  price     x     y  \\\n",
       "0           1   0.23    Ideal     E     SI2   61.5   55.0    326  3.95  3.98   \n",
       "1           2   0.21  Premium     E     SI1   59.8   61.0    326  3.89  3.84   \n",
       "\n",
       "      z  \n",
       "0  2.43  \n",
       "1  2.31  "
      ]
     },
     "execution_count": 85,
     "metadata": {},
     "output_type": "execute_result"
    }
   ],
   "source": [
    "df.head(2)\n"
   ]
  },
  {
   "cell_type": "code",
   "execution_count": 86,
   "id": "df633021",
   "metadata": {},
   "outputs": [],
   "source": [
    "#df.drop(['Unnamed: 0'],axis = 1,inplace = True)"
   ]
  },
  {
   "cell_type": "code",
   "execution_count": 87,
   "id": "d174274d",
   "metadata": {},
   "outputs": [
    {
     "data": {
      "text/html": [
       "<div>\n",
       "<style scoped>\n",
       "    .dataframe tbody tr th:only-of-type {\n",
       "        vertical-align: middle;\n",
       "    }\n",
       "\n",
       "    .dataframe tbody tr th {\n",
       "        vertical-align: top;\n",
       "    }\n",
       "\n",
       "    .dataframe thead th {\n",
       "        text-align: right;\n",
       "    }\n",
       "</style>\n",
       "<table border=\"1\" class=\"dataframe\">\n",
       "  <thead>\n",
       "    <tr style=\"text-align: right;\">\n",
       "      <th></th>\n",
       "      <th>Unnamed: 0</th>\n",
       "      <th>carat</th>\n",
       "      <th>cut</th>\n",
       "      <th>color</th>\n",
       "      <th>clarity</th>\n",
       "      <th>depth</th>\n",
       "      <th>table</th>\n",
       "      <th>price</th>\n",
       "      <th>x</th>\n",
       "      <th>y</th>\n",
       "      <th>z</th>\n",
       "    </tr>\n",
       "  </thead>\n",
       "  <tbody>\n",
       "    <tr>\n",
       "      <th>0</th>\n",
       "      <td>1</td>\n",
       "      <td>0.23</td>\n",
       "      <td>Ideal</td>\n",
       "      <td>E</td>\n",
       "      <td>SI2</td>\n",
       "      <td>61.5</td>\n",
       "      <td>55.0</td>\n",
       "      <td>326</td>\n",
       "      <td>3.95</td>\n",
       "      <td>3.98</td>\n",
       "      <td>2.43</td>\n",
       "    </tr>\n",
       "    <tr>\n",
       "      <th>1</th>\n",
       "      <td>2</td>\n",
       "      <td>0.21</td>\n",
       "      <td>Premium</td>\n",
       "      <td>E</td>\n",
       "      <td>SI1</td>\n",
       "      <td>59.8</td>\n",
       "      <td>61.0</td>\n",
       "      <td>326</td>\n",
       "      <td>3.89</td>\n",
       "      <td>3.84</td>\n",
       "      <td>2.31</td>\n",
       "    </tr>\n",
       "  </tbody>\n",
       "</table>\n",
       "</div>"
      ],
      "text/plain": [
       "   Unnamed: 0  carat      cut color clarity  depth  table  price     x     y  \\\n",
       "0           1   0.23    Ideal     E     SI2   61.5   55.0    326  3.95  3.98   \n",
       "1           2   0.21  Premium     E     SI1   59.8   61.0    326  3.89  3.84   \n",
       "\n",
       "      z  \n",
       "0  2.43  \n",
       "1  2.31  "
      ]
     },
     "execution_count": 87,
     "metadata": {},
     "output_type": "execute_result"
    }
   ],
   "source": [
    "df.head(2)"
   ]
  },
  {
   "cell_type": "code",
   "execution_count": 88,
   "id": "f638d360",
   "metadata": {},
   "outputs": [],
   "source": [
    "#2.Which column has highest correlation with the target variable?(Graphs)\n"
   ]
  },
  {
   "cell_type": "code",
   "execution_count": 89,
   "id": "951ebe67",
   "metadata": {},
   "outputs": [
    {
     "name": "stderr",
     "output_type": "stream",
     "text": [
      "C:\\Users\\Shilpa\\AppData\\Local\\Temp\\ipykernel_32544\\3479304113.py:1: FutureWarning: The default value of numeric_only in DataFrame.corr is deprecated. In a future version, it will default to False. Select only valid columns or specify the value of numeric_only to silence this warning.\n",
      "  corr = df.corr()['price'].sort_values(ascending=False)\n"
     ]
    },
    {
     "data": {
      "text/plain": [
       "price         1.000000\n",
       "carat         0.921591\n",
       "x             0.884435\n",
       "y             0.865421\n",
       "z             0.861249\n",
       "table         0.127134\n",
       "depth        -0.010647\n",
       "Unnamed: 0   -0.306873\n",
       "Name: price, dtype: float64"
      ]
     },
     "execution_count": 89,
     "metadata": {},
     "output_type": "execute_result"
    }
   ],
   "source": [
    "corr = df.corr()['price'].sort_values(ascending=False)\n",
    "corr"
   ]
  },
  {
   "cell_type": "code",
   "execution_count": 90,
   "id": "dcd2de24",
   "metadata": {},
   "outputs": [
    {
     "name": "stderr",
     "output_type": "stream",
     "text": [
      "C:\\Users\\Shilpa\\AppData\\Local\\Temp\\ipykernel_32544\\912637320.py:2: FutureWarning: The default value of numeric_only in DataFrame.corr is deprecated. In a future version, it will default to False. Select only valid columns or specify the value of numeric_only to silence this warning.\n",
      "  sns.heatmap(df.corr(), annot=True,cmap='RdYlGn')\n"
     ]
    },
    {
     "data": {
      "text/plain": [
       "<AxesSubplot: >"
      ]
     },
     "execution_count": 90,
     "metadata": {},
     "output_type": "execute_result"
    },
    {
     "data": {
      "image/png": "[encoded data removed]",
      "text/plain": [
       "<Figure size 1000x1000 with 2 Axes>"
      ]
     },
     "metadata": {},
     "output_type": "display_data"
    }
   ],
   "source": [
    "plt.figure(figsize=(10,10))\n",
    "sns.heatmap(df.corr(), annot=True,cmap='RdYlGn')"
   ]
  },
  {
   "cell_type": "code",
   "execution_count": 91,
   "id": "774bd262",
   "metadata": {},
   "outputs": [
    {
     "data": {
      "image/png": "[encoded data removed]",
      "text/plain": [
       "<Figure size 3000x500 with 6 Axes>"
      ]
     },
     "metadata": {},
     "output_type": "display_data"
    }
   ],
   "source": [
    "#3.Find the outliers in each column?Use suitable graphs\n",
    "\n",
    "f, ax = plt.subplots(1,6, figsize=(30,5))\n",
    "sns.boxplot(x='carat', data=df, ax=ax[0])\n",
    "sns.boxplot(x='depth', data=df, ax=ax[1])\n",
    "sns.boxplot(x='table', data=df, ax=ax[2])\n",
    "sns.boxplot(x='x', data=df, ax=ax[3])\n",
    "sns.boxplot(x='y', data=df, ax=ax[4])\n",
    "sns.boxplot(x='z', data=df , ax=ax[5])\n",
    "plt.show()\n"
   ]
  },
  {
   "cell_type": "code",
   "execution_count": null,
   "id": "948671b4",
   "metadata": {},
   "outputs": [],
   "source": []
  },
  {
   "cell_type": "code",
   "execution_count": null,
   "id": "861e673a",
   "metadata": {},
   "outputs": [],
   "source": []
  }
 ],
 "metadata": {
  "kernelspec": {
   "display_name": "Python 3 (ipykernel)",
   "language": "python",
   "name": "python3"
  },
  "language_info": {
   "codemirror_mode": {
    "name": "ipython",
    "version": 3
   },
   "file_extension": ".py",
   "mimetype": "text/x-python",
   "name": "python",
   "nbconvert_exporter": "python",
   "pygments_lexer": "ipython3",
   "version": "3.11.5"
  }
 },
 "nbformat": 4,
 "nbformat_minor": 5
}
